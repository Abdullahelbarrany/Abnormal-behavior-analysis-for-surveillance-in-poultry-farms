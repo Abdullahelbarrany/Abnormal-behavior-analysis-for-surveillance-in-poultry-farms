{
 "cells": [
  {
   "cell_type": "code",
   "execution_count": 20,
   "metadata": {},
   "outputs": [],
   "source": [
    "import os\n",
    "import numpy as np\n",
    "import tensorflow as tf\n",
    "from tensorflow import keras\n",
    "import matplotlib.pyplot as plt\n",
    "from keras import layers, utils, models, callbacks as cb\n",
    "from sklearn.metrics import ConfusionMatrixDisplay, confusion_matrix"
   ]
  },
  {
   "cell_type": "code",
   "execution_count": 21,
   "metadata": {},
   "outputs": [],
   "source": [
    "#model = models.load_model('chicken.h5')\n",
    "model = models.load_model('save_at_26.h5')"
   ]
  },
  {
   "cell_type": "code",
   "execution_count": 22,
   "metadata": {},
   "outputs": [
    {
     "name": "stdout",
     "output_type": "stream",
     "text": [
      "Found 18 files belonging to 3 classes.\n"
     ]
    }
   ],
   "source": [
    "val = tf.keras.preprocessing.image_dataset_from_directory(\n",
    "    \"validation\",\n",
    "    image_size=(1000, 1000),\n",
    "    batch_size=1,\n",
    "    shuffle=False\n",
    ")\n",
    "\n"
   ]
  },
  {
   "cell_type": "code",
   "execution_count": 23,
   "metadata": {},
   "outputs": [],
   "source": [
    "yytest = []\n",
    "yypred = []\n",
    "\n",
    "for xtest, ytest in val:\n",
    "    # //xtest = np.expand_dims(xtest,axis=0)\n",
    "    ypred = model(xtest)\n",
    "    #break\n",
    "    yytest.append(ytest[0])\n",
    "    yypred.append(ypred[0])"
   ]
  },
  {
   "cell_type": "code",
   "execution_count": 24,
   "metadata": {},
   "outputs": [],
   "source": [
    "# yytest = np.array([np.argmax(y) for y in yytest], dtype=np.int32)\n",
    "yypred = np.array([np.argmax(y) for y in yypred], dtype=np.int32)"
   ]
  },
  {
   "cell_type": "code",
   "execution_count": 25,
   "metadata": {},
   "outputs": [
    {
     "data": {
      "image/png": "[encoded data removed]",
      "text/plain": [
       "<Figure size 640x480 with 2 Axes>"
      ]
     },
     "metadata": {},
     "output_type": "display_data"
    }
   ],
   "source": [
    "result =  confusion_matrix(yytest, yypred)\n",
    "disp = ConfusionMatrixDisplay(confusion_matrix=result, display_labels=[\"eating\", \"sleeping\",\"walking\"])\n",
    "disp.plot(cmap=plt.cm.Blues)\n",
    "plt.show()"
   ]
  },
  {
   "cell_type": "code",
   "execution_count": 26,
   "metadata": {},
   "outputs": [],
   "source": [
    "# image_size = (540,960)\n",
    "# batch_size = 32\n",
    "\n",
    "# # val_ds = tf.keras.preprocessing.image_dataset_from_directory(\n",
    "# #     \"validation\",\n",
    "# #     seed=1337,\n",
    "# #     image_size=image_size,\n",
    "# #     batch_size=batch_size,\n",
    "# # )\n",
    "# train_ds = tf.keras.preprocessing.image_dataset_from_directory(\n",
    "#     \"validation\",\n",
    "#   seed=1337,\n",
    "#     image_size=image_size,\n",
    "#     batch_size=batch_size,\n",
    "# )"
   ]
  },
  {
   "cell_type": "code",
   "execution_count": 27,
   "metadata": {},
   "outputs": [],
   "source": [
    "# model = models.load_model(r'E:\\University\\Semester 6\\Grad\\tile classification 2 - Copy\\tile classifciation\\testall.h5')\n"
   ]
  },
  {
   "cell_type": "code",
   "execution_count": 28,
   "metadata": {},
   "outputs": [],
   "source": [
    "# train_ds = train_ds.unbatch().batch(32, drop_remainder=True)\n",
    "# train_label = np.concatenate([tf.keras.utils.to_categorical(y, num_classes=5) for x, y in train_ds], axis=0)\n",
    "# y_prediction = model.predict(train_ds)\n",
    "\n"
   ]
  },
  {
   "cell_type": "code",
   "execution_count": 29,
   "metadata": {},
   "outputs": [],
   "source": [
    "# print(train_label.shape)\n",
    "# print(y_prediction.shape)"
   ]
  },
  {
   "cell_type": "code",
   "execution_count": 30,
   "metadata": {},
   "outputs": [],
   "source": [
    "# matrix = confusion_matrix(\n",
    "#     np.argmax(train_label, axis=1),\n",
    "#     np.argmax(y_prediction, axis=1),\n",
    "# )\n",
    "# disp = ConfusionMatrixDisplay(confusion_matrix=matrix, display_labels=[f\"tile{i}\" for i in range(1, 6)])\n",
    "# disp.plot(cmap=plt.cm.Reds)\n",
    "# plt.show()\n"
   ]
  },
  {
   "cell_type": "code",
   "execution_count": 31,
   "metadata": {},
   "outputs": [
    {
     "name": "stdout",
     "output_type": "stream",
     "text": [
      "18/18 [==============================] - 1s 19ms/step - loss: 1.0624 - accuracy: 0.6111\n"
     ]
    }
   ],
   "source": [
    "result = model.evaluate(val)"
   ]
  }
 ],
 "metadata": {
  "kernelspec": {
   "display_name": "Python 3.9.13 ('tf')",
   "language": "python",
   "name": "python3"
  },
  "language_info": {
   "codemirror_mode": {
    "name": "ipython",
    "version": 3
   },
   "file_extension": ".py",
   "mimetype": "text/x-python",
   "name": "python",
   "nbconvert_exporter": "python",
   "pygments_lexer": "ipython3",
   "version": "3.9.13"
  },
  "orig_nbformat": 4,
  "vscode": {
   "interpreter": {
    "hash": "31ee28d8cbd173e963d1dc0abb1ce88a9f313106e1dbf4b62de34690f6de5716"
   }
  }
 },
 "nbformat": 4,
 "nbformat_minor": 2
}
