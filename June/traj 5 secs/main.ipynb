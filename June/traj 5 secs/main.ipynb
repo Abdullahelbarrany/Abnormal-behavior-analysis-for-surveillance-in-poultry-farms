{
 "cells": [
  {
   "cell_type": "code",
   "execution_count": 6,
   "metadata": {},
   "outputs": [],
   "source": [
    "import os\n",
    "import numpy as np\n",
    "import tensorflow as tf\n",
    "from tensorflow import keras\n",
    "from keras import layers, utils, models, callbacks as cb"
   ]
  },
  {
   "cell_type": "code",
   "execution_count": 7,
   "metadata": {},
   "outputs": [
    {
     "name": "stdout",
     "output_type": "stream",
     "text": [
      "Found 87 files belonging to 3 classes.\n",
      "Using 70 files for training.\n",
      "Found 21 files belonging to 3 classes.\n",
      "Using 18 files for validation.\n",
      "<class 'tensorflow.python.data.ops.dataset_ops.PrefetchDataset'>\n"
     ]
    }
   ],
   "source": [
    "image_size = (1000,1000)\n",
    "batch_size = 15\n",
    "\n",
    "train_ds = tf.keras.preprocessing.image_dataset_from_directory(\n",
    "    \"training\",\n",
    "    validation_split=0.2,\n",
    "    subset=\"training\",\n",
    "    seed=1337,\n",
    "    image_size=image_size,\n",
    "    batch_size=batch_size,\n",
    ")\n",
    "val_ds = tf.keras.preprocessing.image_dataset_from_directory(\n",
    "    \"validation\",\n",
    "    validation_split=0.9,\n",
    "    subset=\"validation\",\n",
    "    seed=1337,\n",
    "    image_size=image_size,\n",
    "    batch_size=batch_size,\n",
    ")\n",
    "train_ds = train_ds.prefetch(buffer_size=10)\n",
    "val_ds = val_ds.prefetch(buffer_size=10)\n",
    "print(f\"{type(train_ds)}\")\n",
    "\n",
    "\n"
   ]
  },
  {
   "cell_type": "code",
   "execution_count": 8,
   "metadata": {},
   "outputs": [],
   "source": [
    "# import matplotlib.pyplot as plt\n",
    "\n",
    "# plt.figure(figsize=(25, 45))\n",
    "# for images, labels in train_ds.take(1):\n",
    "#     for i in range(9):\n",
    "#         ax = plt.subplot(3, 3, i + 1)\n",
    "#         plt.imshow(images[i].numpy().astype(\"uint8\"))\n",
    "#         plt.title(int(labels[i]))\n",
    "#         plt.axis(\"off\")"
   ]
  },
  {
   "cell_type": "code",
   "execution_count": 9,
   "metadata": {},
   "outputs": [],
   "source": [
    "def make_model(input_shape, num_classes):\n",
    "    return keras.Sequential(\n",
    "    [\n",
    "        keras.Input(shape=input_shape),\n",
    "        layers.RandomFlip(\"horizontal\"),\n",
    "        layers.RandomRotation(0.2),\n",
    "        layers.Conv2D(32, kernel_size=(3, 3), activation=\"relu\"),\n",
    "        layers.MaxPooling2D(pool_size=(2, 2)),\n",
    "        layers.Conv2D(64, kernel_size=(3, 3), activation=\"relu\"),\n",
    "        layers.MaxPooling2D(pool_size=(2, 2)),\n",
    "        layers.Flatten(),\n",
    "        layers.Dropout(0.3),\n",
    "        layers.Dense(num_classes, activation=\"softmax\"),\n",
    "    ]\n",
    "    )\n",
    "\n",
    "\n",
    "model = make_model(input_shape=image_size + (3,), num_classes=5)"
   ]
  },
  {
   "cell_type": "code",
   "execution_count": 10,
   "metadata": {},
   "outputs": [
    {
     "name": "stdout",
     "output_type": "stream",
     "text": [
      "Epoch 1/100\n",
      "WARNING:tensorflow:Using a while_loop for converting RngReadAndSkip cause there is no registered converter for this op.\n",
      "WARNING:tensorflow:Using a while_loop for converting Bitcast cause there is no registered converter for this op.\n",
      "WARNING:tensorflow:Using a while_loop for converting Bitcast cause there is no registered converter for this op.\n",
      "WARNING:tensorflow:Using a while_loop for converting StatelessRandomUniformV2 cause there is no registered converter for this op.\n",
      "WARNING:tensorflow:Using a while_loop for converting ImageProjectiveTransformV3 cause there is no registered converter for this op.\n",
      "WARNING:tensorflow:Using a while_loop for converting RngReadAndSkip cause there is no registered converter for this op.\n",
      "WARNING:tensorflow:Using a while_loop for converting Bitcast cause there is no registered converter for this op.\n",
      "WARNING:tensorflow:Using a while_loop for converting Bitcast cause there is no registered converter for this op.\n",
      "WARNING:tensorflow:Using a while_loop for converting StatelessRandomUniformV2 cause there is no registered converter for this op.\n",
      "WARNING:tensorflow:Using a while_loop for converting ImageProjectiveTransformV3 cause there is no registered converter for this op.\n",
      "70/70 [==============================] - 8s 76ms/step - loss: 6724.6641 - accuracy: 0.3571 - val_loss: 12.6718 - val_accuracy: 0.3889\n",
      "Epoch 2/100\n",
      "70/70 [==============================] - 5s 74ms/step - loss: 8.4770 - accuracy: 0.4000 - val_loss: 1.6287 - val_accuracy: 0.3333\n",
      "Epoch 3/100\n",
      "70/70 [==============================] - 5s 78ms/step - loss: 1.3242 - accuracy: 0.4857 - val_loss: 1.3382 - val_accuracy: 0.5000\n",
      "Epoch 4/100\n",
      "70/70 [==============================] - 5s 78ms/step - loss: 1.1933 - accuracy: 0.5000 - val_loss: 1.2229 - val_accuracy: 0.5000\n",
      "Epoch 5/100\n",
      "70/70 [==============================] - 6s 79ms/step - loss: 1.1412 - accuracy: 0.5714 - val_loss: 1.1547 - val_accuracy: 0.5000\n",
      "Epoch 6/100\n",
      "70/70 [==============================] - 4s 62ms/step - loss: 1.1119 - accuracy: 0.5286 - val_loss: 1.2713 - val_accuracy: 0.5556\n",
      "Epoch 7/100\n",
      "70/70 [==============================] - 5s 71ms/step - loss: 1.1842 - accuracy: 0.5714 - val_loss: 1.1179 - val_accuracy: 0.5556\n",
      "Epoch 8/100\n",
      "70/70 [==============================] - 6s 79ms/step - loss: 1.0010 - accuracy: 0.7000 - val_loss: 1.1736 - val_accuracy: 0.5556\n",
      "Epoch 9/100\n",
      "70/70 [==============================] - 4s 64ms/step - loss: 1.1366 - accuracy: 0.6143 - val_loss: 1.1754 - val_accuracy: 0.5000\n",
      "Epoch 10/100\n",
      "70/70 [==============================] - 5s 68ms/step - loss: 1.1634 - accuracy: 0.5714 - val_loss: 1.0726 - val_accuracy: 0.6667\n",
      "Epoch 11/100\n",
      "70/70 [==============================] - 5s 67ms/step - loss: 0.9854 - accuracy: 0.6429 - val_loss: 1.1897 - val_accuracy: 0.6111\n",
      "Epoch 12/100\n",
      "70/70 [==============================] - 6s 89ms/step - loss: 1.0696 - accuracy: 0.6000 - val_loss: 1.0256 - val_accuracy: 0.6667\n",
      "Epoch 13/100\n",
      "70/70 [==============================] - 6s 80ms/step - loss: 1.1170 - accuracy: 0.6000 - val_loss: 0.8991 - val_accuracy: 0.6667\n",
      "Epoch 14/100\n",
      "70/70 [==============================] - 5s 76ms/step - loss: 0.9911 - accuracy: 0.6000 - val_loss: 1.0390 - val_accuracy: 0.6111\n",
      "Epoch 15/100\n",
      "70/70 [==============================] - 6s 81ms/step - loss: 1.0002 - accuracy: 0.5714 - val_loss: 0.9471 - val_accuracy: 0.6667\n",
      "Epoch 16/100\n",
      "70/70 [==============================] - 5s 71ms/step - loss: 1.0918 - accuracy: 0.6143 - val_loss: 0.9178 - val_accuracy: 0.7222\n",
      "Epoch 17/100\n",
      "70/70 [==============================] - 5s 65ms/step - loss: 0.9400 - accuracy: 0.6143 - val_loss: 1.0491 - val_accuracy: 0.6667\n",
      "Epoch 18/100\n",
      "70/70 [==============================] - 4s 61ms/step - loss: 0.8891 - accuracy: 0.6857 - val_loss: 1.0517 - val_accuracy: 0.6667\n",
      "Epoch 19/100\n",
      "70/70 [==============================] - 5s 65ms/step - loss: 0.8429 - accuracy: 0.6857 - val_loss: 1.4894 - val_accuracy: 0.6111\n",
      "Epoch 20/100\n",
      "70/70 [==============================] - 5s 69ms/step - loss: 0.9804 - accuracy: 0.6286 - val_loss: 1.0599 - val_accuracy: 0.6667\n",
      "Epoch 21/100\n",
      "70/70 [==============================] - 5s 69ms/step - loss: 0.9337 - accuracy: 0.6857 - val_loss: 0.8696 - val_accuracy: 0.7778\n",
      "Epoch 22/100\n",
      "70/70 [==============================] - 5s 66ms/step - loss: 0.9264 - accuracy: 0.6857 - val_loss: 1.0483 - val_accuracy: 0.6111\n",
      "Epoch 23/100\n",
      "70/70 [==============================] - 4s 61ms/step - loss: 0.8949 - accuracy: 0.6857 - val_loss: 1.2293 - val_accuracy: 0.6111\n",
      "Epoch 24/100\n",
      "70/70 [==============================] - 5s 71ms/step - loss: 0.8411 - accuracy: 0.7143 - val_loss: 1.4224 - val_accuracy: 0.6111\n",
      "Epoch 25/100\n",
      "70/70 [==============================] - 5s 70ms/step - loss: 0.8560 - accuracy: 0.6857 - val_loss: 1.1381 - val_accuracy: 0.6111\n",
      "Epoch 26/100\n",
      "70/70 [==============================] - 5s 73ms/step - loss: 0.9791 - accuracy: 0.6571 - val_loss: 1.0615 - val_accuracy: 0.6111\n",
      "Epoch 27/100\n",
      "70/70 [==============================] - 5s 78ms/step - loss: 1.0652 - accuracy: 0.6714 - val_loss: 0.8680 - val_accuracy: 0.6667\n",
      "Epoch 28/100\n",
      "70/70 [==============================] - 5s 75ms/step - loss: 0.8018 - accuracy: 0.6714 - val_loss: 1.5447 - val_accuracy: 0.6111\n",
      "Epoch 29/100\n",
      "70/70 [==============================] - 5s 76ms/step - loss: 0.9350 - accuracy: 0.6714 - val_loss: 1.0638 - val_accuracy: 0.6111\n",
      "Epoch 30/100\n",
      "70/70 [==============================] - 5s 77ms/step - loss: 0.9778 - accuracy: 0.6571 - val_loss: 0.9510 - val_accuracy: 0.6111\n",
      "Epoch 31/100\n",
      "70/70 [==============================] - 6s 80ms/step - loss: 1.0668 - accuracy: 0.5714 - val_loss: 1.0909 - val_accuracy: 0.3889\n",
      "Epoch 32/100\n",
      "70/70 [==============================] - 4s 62ms/step - loss: 0.8185 - accuracy: 0.7286 - val_loss: 0.8987 - val_accuracy: 0.6667\n",
      "Epoch 33/100\n",
      "70/70 [==============================] - 5s 71ms/step - loss: 0.9132 - accuracy: 0.6286 - val_loss: 0.8638 - val_accuracy: 0.6111\n",
      "Epoch 34/100\n",
      "70/70 [==============================] - 4s 63ms/step - loss: 0.8681 - accuracy: 0.6286 - val_loss: 2.0553 - val_accuracy: 0.5000\n",
      "Epoch 35/100\n",
      "70/70 [==============================] - 5s 72ms/step - loss: 0.9506 - accuracy: 0.6286 - val_loss: 1.1827 - val_accuracy: 0.6667\n",
      "Epoch 36/100\n",
      "70/70 [==============================] - 5s 75ms/step - loss: 0.7808 - accuracy: 0.7000 - val_loss: 0.9020 - val_accuracy: 0.6111\n",
      "Epoch 37/100\n",
      "70/70 [==============================] - 5s 66ms/step - loss: 0.8013 - accuracy: 0.6714 - val_loss: 3.1398 - val_accuracy: 0.5000\n",
      "Epoch 38/100\n",
      "70/70 [==============================] - 6s 78ms/step - loss: 0.9010 - accuracy: 0.7286 - val_loss: 0.9568 - val_accuracy: 0.6111\n",
      "Epoch 39/100\n",
      "70/70 [==============================] - 5s 71ms/step - loss: 0.6530 - accuracy: 0.8286 - val_loss: 1.3063 - val_accuracy: 0.5556\n",
      "Epoch 40/100\n",
      "70/70 [==============================] - 5s 76ms/step - loss: 0.8841 - accuracy: 0.7000 - val_loss: 0.7958 - val_accuracy: 0.6111\n",
      "Epoch 41/100\n",
      "70/70 [==============================] - 5s 78ms/step - loss: 0.9404 - accuracy: 0.6571 - val_loss: 0.8833 - val_accuracy: 0.6111\n",
      "Epoch 42/100\n",
      "70/70 [==============================] - 5s 75ms/step - loss: 0.7654 - accuracy: 0.7000 - val_loss: 0.8614 - val_accuracy: 0.6111\n",
      "Epoch 43/100\n",
      "70/70 [==============================] - 6s 84ms/step - loss: 0.8816 - accuracy: 0.6714 - val_loss: 0.7489 - val_accuracy: 0.6111\n",
      "Epoch 44/100\n",
      "70/70 [==============================] - 6s 79ms/step - loss: 0.7585 - accuracy: 0.7143 - val_loss: 1.1107 - val_accuracy: 0.5000\n",
      "Epoch 45/100\n",
      "70/70 [==============================] - 6s 83ms/step - loss: 0.7883 - accuracy: 0.7143 - val_loss: 0.9584 - val_accuracy: 0.5556\n",
      "Epoch 46/100\n",
      "70/70 [==============================] - 5s 74ms/step - loss: 0.8274 - accuracy: 0.7143 - val_loss: 1.0973 - val_accuracy: 0.5000\n",
      "Epoch 47/100\n",
      "70/70 [==============================] - 5s 76ms/step - loss: 0.7643 - accuracy: 0.7143 - val_loss: 1.2598 - val_accuracy: 0.5556\n",
      "Epoch 48/100\n",
      "70/70 [==============================] - 5s 76ms/step - loss: 0.8113 - accuracy: 0.6857 - val_loss: 0.9564 - val_accuracy: 0.6111\n",
      "Epoch 49/100\n",
      "70/70 [==============================] - 5s 77ms/step - loss: 0.9291 - accuracy: 0.6429 - val_loss: 0.9006 - val_accuracy: 0.7222\n",
      "Epoch 50/100\n",
      "70/70 [==============================] - 6s 80ms/step - loss: 0.9296 - accuracy: 0.6714 - val_loss: 1.2398 - val_accuracy: 0.6111\n",
      "Epoch 51/100\n",
      "70/70 [==============================] - 5s 72ms/step - loss: 0.7594 - accuracy: 0.6857 - val_loss: 1.4512 - val_accuracy: 0.5556\n",
      "Epoch 52/100\n",
      "69/70 [============================>.] - ETA: 0s - loss: 0.9921 - accuracy: 0.6667"
     ]
    },
    {
     "ename": "KeyboardInterrupt",
     "evalue": "",
     "output_type": "error",
     "traceback": [
      "\u001b[1;31m---------------------------------------------------------------------------\u001b[0m",
      "\u001b[1;31mKeyboardInterrupt\u001b[0m                         Traceback (most recent call last)",
      "\u001b[1;32me:\\University\\Semester 6\\Grad\\CHICK_t\\CHICK_t\\April\\June New\\traj 5 secs\\main.ipynb Cell 5\u001b[0m in \u001b[0;36m<cell line: 13>\u001b[1;34m()\u001b[0m\n\u001b[0;32m      <a href='vscode-notebook-cell:/e%3A/University/Semester%206/Grad/CHICK_t/CHICK_t/April/June%20New/traj%205%20secs/main.ipynb#W4sZmlsZQ%3D%3D?line=2'>3</a>\u001b[0m callbacks \u001b[39m=\u001b[39m [\n\u001b[0;32m      <a href='vscode-notebook-cell:/e%3A/University/Semester%206/Grad/CHICK_t/CHICK_t/April/June%20New/traj%205%20secs/main.ipynb#W4sZmlsZQ%3D%3D?line=3'>4</a>\u001b[0m     keras\u001b[39m.\u001b[39mcallbacks\u001b[39m.\u001b[39mModelCheckpoint(\u001b[39m\"\u001b[39m\u001b[39msave_at_\u001b[39m\u001b[39m{epoch}\u001b[39;00m\u001b[39m.h5\u001b[39m\u001b[39m\"\u001b[39m),\n\u001b[0;32m      <a href='vscode-notebook-cell:/e%3A/University/Semester%206/Grad/CHICK_t/CHICK_t/April/June%20New/traj%205%20secs/main.ipynb#W4sZmlsZQ%3D%3D?line=4'>5</a>\u001b[0m     keras\u001b[39m.\u001b[39mcallbacks\u001b[39m.\u001b[39mTensorBoard(log_dir\u001b[39m=\u001b[39m\u001b[39m\"\u001b[39m\u001b[39m./logs\u001b[39m\u001b[39m\"\u001b[39m)\n\u001b[0;32m      <a href='vscode-notebook-cell:/e%3A/University/Semester%206/Grad/CHICK_t/CHICK_t/April/June%20New/traj%205%20secs/main.ipynb#W4sZmlsZQ%3D%3D?line=5'>6</a>\u001b[0m ]\n\u001b[0;32m      <a href='vscode-notebook-cell:/e%3A/University/Semester%206/Grad/CHICK_t/CHICK_t/April/June%20New/traj%205%20secs/main.ipynb#W4sZmlsZQ%3D%3D?line=7'>8</a>\u001b[0m model\u001b[39m.\u001b[39mcompile(\n\u001b[0;32m      <a href='vscode-notebook-cell:/e%3A/University/Semester%206/Grad/CHICK_t/CHICK_t/April/June%20New/traj%205%20secs/main.ipynb#W4sZmlsZQ%3D%3D?line=8'>9</a>\u001b[0m     optimizer\u001b[39m=\u001b[39m\u001b[39m\"\u001b[39m\u001b[39madam\u001b[39m\u001b[39m\"\u001b[39m,\n\u001b[0;32m     <a href='vscode-notebook-cell:/e%3A/University/Semester%206/Grad/CHICK_t/CHICK_t/April/June%20New/traj%205%20secs/main.ipynb#W4sZmlsZQ%3D%3D?line=9'>10</a>\u001b[0m     loss\u001b[39m=\u001b[39m\u001b[39m\"\u001b[39m\u001b[39msparse_categorical_crossentropy\u001b[39m\u001b[39m\"\u001b[39m,\n\u001b[0;32m     <a href='vscode-notebook-cell:/e%3A/University/Semester%206/Grad/CHICK_t/CHICK_t/April/June%20New/traj%205%20secs/main.ipynb#W4sZmlsZQ%3D%3D?line=10'>11</a>\u001b[0m     metrics\u001b[39m=\u001b[39m[\u001b[39m\"\u001b[39m\u001b[39maccuracy\u001b[39m\u001b[39m\"\u001b[39m],\n\u001b[0;32m     <a href='vscode-notebook-cell:/e%3A/University/Semester%206/Grad/CHICK_t/CHICK_t/April/June%20New/traj%205%20secs/main.ipynb#W4sZmlsZQ%3D%3D?line=11'>12</a>\u001b[0m )\n\u001b[1;32m---> <a href='vscode-notebook-cell:/e%3A/University/Semester%206/Grad/CHICK_t/CHICK_t/April/June%20New/traj%205%20secs/main.ipynb#W4sZmlsZQ%3D%3D?line=12'>13</a>\u001b[0m model\u001b[39m.\u001b[39;49mfit(\n\u001b[0;32m     <a href='vscode-notebook-cell:/e%3A/University/Semester%206/Grad/CHICK_t/CHICK_t/April/June%20New/traj%205%20secs/main.ipynb#W4sZmlsZQ%3D%3D?line=13'>14</a>\u001b[0m     train_ds, epochs\u001b[39m=\u001b[39;49mepochs, callbacks\u001b[39m=\u001b[39;49mcallbacks,validation_data \u001b[39m=\u001b[39;49m val_ds,use_multiprocessing\u001b[39m=\u001b[39;49m\u001b[39mTrue\u001b[39;49;00m,\n\u001b[0;32m     <a href='vscode-notebook-cell:/e%3A/University/Semester%206/Grad/CHICK_t/CHICK_t/April/June%20New/traj%205%20secs/main.ipynb#W4sZmlsZQ%3D%3D?line=14'>15</a>\u001b[0m )\n\u001b[0;32m     <a href='vscode-notebook-cell:/e%3A/University/Semester%206/Grad/CHICK_t/CHICK_t/April/June%20New/traj%205%20secs/main.ipynb#W4sZmlsZQ%3D%3D?line=15'>16</a>\u001b[0m model\u001b[39m.\u001b[39msave(\u001b[39m'\u001b[39m\u001b[39mchicken.h5\u001b[39m\u001b[39m'\u001b[39m)\n",
      "File \u001b[1;32mc:\\Users\\abdal\\miniconda3\\envs\\tf\\lib\\site-packages\\keras\\utils\\traceback_utils.py:65\u001b[0m, in \u001b[0;36mfilter_traceback.<locals>.error_handler\u001b[1;34m(*args, **kwargs)\u001b[0m\n\u001b[0;32m     63\u001b[0m filtered_tb \u001b[39m=\u001b[39m \u001b[39mNone\u001b[39;00m\n\u001b[0;32m     64\u001b[0m \u001b[39mtry\u001b[39;00m:\n\u001b[1;32m---> 65\u001b[0m     \u001b[39mreturn\u001b[39;00m fn(\u001b[39m*\u001b[39margs, \u001b[39m*\u001b[39m\u001b[39m*\u001b[39mkwargs)\n\u001b[0;32m     66\u001b[0m \u001b[39mexcept\u001b[39;00m \u001b[39mException\u001b[39;00m \u001b[39mas\u001b[39;00m e:\n\u001b[0;32m     67\u001b[0m     filtered_tb \u001b[39m=\u001b[39m _process_traceback_frames(e\u001b[39m.\u001b[39m__traceback__)\n",
      "File \u001b[1;32mc:\\Users\\abdal\\miniconda3\\envs\\tf\\lib\\site-packages\\keras\\engine\\training.py:1606\u001b[0m, in \u001b[0;36mModel.fit\u001b[1;34m(self, x, y, batch_size, epochs, verbose, callbacks, validation_split, validation_data, shuffle, class_weight, sample_weight, initial_epoch, steps_per_epoch, validation_steps, validation_batch_size, validation_freq, max_queue_size, workers, use_multiprocessing)\u001b[0m\n\u001b[0;32m   1591\u001b[0m \u001b[39mif\u001b[39;00m \u001b[39mgetattr\u001b[39m(\u001b[39mself\u001b[39m, \u001b[39m\"\u001b[39m\u001b[39m_eval_data_handler\u001b[39m\u001b[39m\"\u001b[39m, \u001b[39mNone\u001b[39;00m) \u001b[39mis\u001b[39;00m \u001b[39mNone\u001b[39;00m:\n\u001b[0;32m   1592\u001b[0m     \u001b[39mself\u001b[39m\u001b[39m.\u001b[39m_eval_data_handler \u001b[39m=\u001b[39m data_adapter\u001b[39m.\u001b[39mget_data_handler(\n\u001b[0;32m   1593\u001b[0m         x\u001b[39m=\u001b[39mval_x,\n\u001b[0;32m   1594\u001b[0m         y\u001b[39m=\u001b[39mval_y,\n\u001b[1;32m   (...)\u001b[0m\n\u001b[0;32m   1604\u001b[0m         steps_per_execution\u001b[39m=\u001b[39m\u001b[39mself\u001b[39m\u001b[39m.\u001b[39m_steps_per_execution,\n\u001b[0;32m   1605\u001b[0m     )\n\u001b[1;32m-> 1606\u001b[0m val_logs \u001b[39m=\u001b[39m \u001b[39mself\u001b[39;49m\u001b[39m.\u001b[39;49mevaluate(\n\u001b[0;32m   1607\u001b[0m     x\u001b[39m=\u001b[39;49mval_x,\n\u001b[0;32m   1608\u001b[0m     y\u001b[39m=\u001b[39;49mval_y,\n\u001b[0;32m   1609\u001b[0m     sample_weight\u001b[39m=\u001b[39;49mval_sample_weight,\n\u001b[0;32m   1610\u001b[0m     batch_size\u001b[39m=\u001b[39;49mvalidation_batch_size \u001b[39mor\u001b[39;49;00m batch_size,\n\u001b[0;32m   1611\u001b[0m     steps\u001b[39m=\u001b[39;49mvalidation_steps,\n\u001b[0;32m   1612\u001b[0m     callbacks\u001b[39m=\u001b[39;49mcallbacks,\n\u001b[0;32m   1613\u001b[0m     max_queue_size\u001b[39m=\u001b[39;49mmax_queue_size,\n\u001b[0;32m   1614\u001b[0m     workers\u001b[39m=\u001b[39;49mworkers,\n\u001b[0;32m   1615\u001b[0m     use_multiprocessing\u001b[39m=\u001b[39;49muse_multiprocessing,\n\u001b[0;32m   1616\u001b[0m     return_dict\u001b[39m=\u001b[39;49m\u001b[39mTrue\u001b[39;49;00m,\n\u001b[0;32m   1617\u001b[0m     _use_cached_eval_dataset\u001b[39m=\u001b[39;49m\u001b[39mTrue\u001b[39;49;00m,\n\u001b[0;32m   1618\u001b[0m )\n\u001b[0;32m   1619\u001b[0m val_logs \u001b[39m=\u001b[39m {\n\u001b[0;32m   1620\u001b[0m     \u001b[39m\"\u001b[39m\u001b[39mval_\u001b[39m\u001b[39m\"\u001b[39m \u001b[39m+\u001b[39m name: val \u001b[39mfor\u001b[39;00m name, val \u001b[39min\u001b[39;00m val_logs\u001b[39m.\u001b[39mitems()\n\u001b[0;32m   1621\u001b[0m }\n\u001b[0;32m   1622\u001b[0m epoch_logs\u001b[39m.\u001b[39mupdate(val_logs)\n",
      "File \u001b[1;32mc:\\Users\\abdal\\miniconda3\\envs\\tf\\lib\\site-packages\\keras\\utils\\traceback_utils.py:65\u001b[0m, in \u001b[0;36mfilter_traceback.<locals>.error_handler\u001b[1;34m(*args, **kwargs)\u001b[0m\n\u001b[0;32m     63\u001b[0m filtered_tb \u001b[39m=\u001b[39m \u001b[39mNone\u001b[39;00m\n\u001b[0;32m     64\u001b[0m \u001b[39mtry\u001b[39;00m:\n\u001b[1;32m---> 65\u001b[0m     \u001b[39mreturn\u001b[39;00m fn(\u001b[39m*\u001b[39margs, \u001b[39m*\u001b[39m\u001b[39m*\u001b[39mkwargs)\n\u001b[0;32m     66\u001b[0m \u001b[39mexcept\u001b[39;00m \u001b[39mException\u001b[39;00m \u001b[39mas\u001b[39;00m e:\n\u001b[0;32m     67\u001b[0m     filtered_tb \u001b[39m=\u001b[39m _process_traceback_frames(e\u001b[39m.\u001b[39m__traceback__)\n",
      "File \u001b[1;32mc:\\Users\\abdal\\miniconda3\\envs\\tf\\lib\\site-packages\\keras\\engine\\training.py:1947\u001b[0m, in \u001b[0;36mModel.evaluate\u001b[1;34m(self, x, y, batch_size, verbose, sample_weight, steps, callbacks, max_queue_size, workers, use_multiprocessing, return_dict, **kwargs)\u001b[0m\n\u001b[0;32m   1943\u001b[0m \u001b[39mwith\u001b[39;00m tf\u001b[39m.\u001b[39mprofiler\u001b[39m.\u001b[39mexperimental\u001b[39m.\u001b[39mTrace(\n\u001b[0;32m   1944\u001b[0m     \u001b[39m\"\u001b[39m\u001b[39mtest\u001b[39m\u001b[39m\"\u001b[39m, step_num\u001b[39m=\u001b[39mstep, _r\u001b[39m=\u001b[39m\u001b[39m1\u001b[39m\n\u001b[0;32m   1945\u001b[0m ):\n\u001b[0;32m   1946\u001b[0m     callbacks\u001b[39m.\u001b[39mon_test_batch_begin(step)\n\u001b[1;32m-> 1947\u001b[0m     tmp_logs \u001b[39m=\u001b[39m \u001b[39mself\u001b[39;49m\u001b[39m.\u001b[39;49mtest_function(iterator)\n\u001b[0;32m   1948\u001b[0m     \u001b[39mif\u001b[39;00m data_handler\u001b[39m.\u001b[39mshould_sync:\n\u001b[0;32m   1949\u001b[0m         context\u001b[39m.\u001b[39masync_wait()\n",
      "File \u001b[1;32mc:\\Users\\abdal\\miniconda3\\envs\\tf\\lib\\site-packages\\tensorflow\\python\\util\\traceback_utils.py:150\u001b[0m, in \u001b[0;36mfilter_traceback.<locals>.error_handler\u001b[1;34m(*args, **kwargs)\u001b[0m\n\u001b[0;32m    148\u001b[0m filtered_tb \u001b[39m=\u001b[39m \u001b[39mNone\u001b[39;00m\n\u001b[0;32m    149\u001b[0m \u001b[39mtry\u001b[39;00m:\n\u001b[1;32m--> 150\u001b[0m   \u001b[39mreturn\u001b[39;00m fn(\u001b[39m*\u001b[39margs, \u001b[39m*\u001b[39m\u001b[39m*\u001b[39mkwargs)\n\u001b[0;32m    151\u001b[0m \u001b[39mexcept\u001b[39;00m \u001b[39mException\u001b[39;00m \u001b[39mas\u001b[39;00m e:\n\u001b[0;32m    152\u001b[0m   filtered_tb \u001b[39m=\u001b[39m _process_traceback_frames(e\u001b[39m.\u001b[39m__traceback__)\n",
      "File \u001b[1;32mc:\\Users\\abdal\\miniconda3\\envs\\tf\\lib\\site-packages\\tensorflow\\python\\eager\\def_function.py:915\u001b[0m, in \u001b[0;36mFunction.__call__\u001b[1;34m(self, *args, **kwds)\u001b[0m\n\u001b[0;32m    912\u001b[0m compiler \u001b[39m=\u001b[39m \u001b[39m\"\u001b[39m\u001b[39mxla\u001b[39m\u001b[39m\"\u001b[39m \u001b[39mif\u001b[39;00m \u001b[39mself\u001b[39m\u001b[39m.\u001b[39m_jit_compile \u001b[39melse\u001b[39;00m \u001b[39m\"\u001b[39m\u001b[39mnonXla\u001b[39m\u001b[39m\"\u001b[39m\n\u001b[0;32m    914\u001b[0m \u001b[39mwith\u001b[39;00m OptionalXlaContext(\u001b[39mself\u001b[39m\u001b[39m.\u001b[39m_jit_compile):\n\u001b[1;32m--> 915\u001b[0m   result \u001b[39m=\u001b[39m \u001b[39mself\u001b[39m\u001b[39m.\u001b[39m_call(\u001b[39m*\u001b[39margs, \u001b[39m*\u001b[39m\u001b[39m*\u001b[39mkwds)\n\u001b[0;32m    917\u001b[0m new_tracing_count \u001b[39m=\u001b[39m \u001b[39mself\u001b[39m\u001b[39m.\u001b[39mexperimental_get_tracing_count()\n\u001b[0;32m    918\u001b[0m without_tracing \u001b[39m=\u001b[39m (tracing_count \u001b[39m==\u001b[39m new_tracing_count)\n",
      "File \u001b[1;32mc:\\Users\\abdal\\miniconda3\\envs\\tf\\lib\\site-packages\\tensorflow\\python\\eager\\def_function.py:954\u001b[0m, in \u001b[0;36mFunction._call\u001b[1;34m(self, *args, **kwds)\u001b[0m\n\u001b[0;32m    951\u001b[0m \u001b[39mself\u001b[39m\u001b[39m.\u001b[39m_lock\u001b[39m.\u001b[39mrelease()\n\u001b[0;32m    952\u001b[0m \u001b[39m# In this case we have not created variables on the first call. So we can\u001b[39;00m\n\u001b[0;32m    953\u001b[0m \u001b[39m# run the first trace but we should fail if variables are created.\u001b[39;00m\n\u001b[1;32m--> 954\u001b[0m results \u001b[39m=\u001b[39m \u001b[39mself\u001b[39m\u001b[39m.\u001b[39m_stateful_fn(\u001b[39m*\u001b[39margs, \u001b[39m*\u001b[39m\u001b[39m*\u001b[39mkwds)\n\u001b[0;32m    955\u001b[0m \u001b[39mif\u001b[39;00m \u001b[39mself\u001b[39m\u001b[39m.\u001b[39m_created_variables \u001b[39mand\u001b[39;00m \u001b[39mnot\u001b[39;00m ALLOW_DYNAMIC_VARIABLE_CREATION:\n\u001b[0;32m    956\u001b[0m   \u001b[39mraise\u001b[39;00m \u001b[39mValueError\u001b[39;00m(\u001b[39m\"\u001b[39m\u001b[39mCreating variables on a non-first call to a function\u001b[39m\u001b[39m\"\u001b[39m\n\u001b[0;32m    957\u001b[0m                    \u001b[39m\"\u001b[39m\u001b[39m decorated with tf.function.\u001b[39m\u001b[39m\"\u001b[39m)\n",
      "File \u001b[1;32mc:\\Users\\abdal\\miniconda3\\envs\\tf\\lib\\site-packages\\tensorflow\\python\\eager\\function.py:2496\u001b[0m, in \u001b[0;36mFunction.__call__\u001b[1;34m(self, *args, **kwargs)\u001b[0m\n\u001b[0;32m   2493\u001b[0m \u001b[39mwith\u001b[39;00m \u001b[39mself\u001b[39m\u001b[39m.\u001b[39m_lock:\n\u001b[0;32m   2494\u001b[0m   (graph_function,\n\u001b[0;32m   2495\u001b[0m    filtered_flat_args) \u001b[39m=\u001b[39m \u001b[39mself\u001b[39m\u001b[39m.\u001b[39m_maybe_define_function(args, kwargs)\n\u001b[1;32m-> 2496\u001b[0m \u001b[39mreturn\u001b[39;00m graph_function\u001b[39m.\u001b[39;49m_call_flat(\n\u001b[0;32m   2497\u001b[0m     filtered_flat_args, captured_inputs\u001b[39m=\u001b[39;49mgraph_function\u001b[39m.\u001b[39;49mcaptured_inputs)\n",
      "File \u001b[1;32mc:\\Users\\abdal\\miniconda3\\envs\\tf\\lib\\site-packages\\tensorflow\\python\\eager\\function.py:1862\u001b[0m, in \u001b[0;36mConcreteFunction._call_flat\u001b[1;34m(self, args, captured_inputs, cancellation_manager)\u001b[0m\n\u001b[0;32m   1858\u001b[0m possible_gradient_type \u001b[39m=\u001b[39m gradients_util\u001b[39m.\u001b[39mPossibleTapeGradientTypes(args)\n\u001b[0;32m   1859\u001b[0m \u001b[39mif\u001b[39;00m (possible_gradient_type \u001b[39m==\u001b[39m gradients_util\u001b[39m.\u001b[39mPOSSIBLE_GRADIENT_TYPES_NONE\n\u001b[0;32m   1860\u001b[0m     \u001b[39mand\u001b[39;00m executing_eagerly):\n\u001b[0;32m   1861\u001b[0m   \u001b[39m# No tape is watching; skip to running the function.\u001b[39;00m\n\u001b[1;32m-> 1862\u001b[0m   \u001b[39mreturn\u001b[39;00m \u001b[39mself\u001b[39m\u001b[39m.\u001b[39m_build_call_outputs(\u001b[39mself\u001b[39;49m\u001b[39m.\u001b[39;49m_inference_function\u001b[39m.\u001b[39;49mcall(\n\u001b[0;32m   1863\u001b[0m       ctx, args, cancellation_manager\u001b[39m=\u001b[39;49mcancellation_manager))\n\u001b[0;32m   1864\u001b[0m forward_backward \u001b[39m=\u001b[39m \u001b[39mself\u001b[39m\u001b[39m.\u001b[39m_select_forward_and_backward_functions(\n\u001b[0;32m   1865\u001b[0m     args,\n\u001b[0;32m   1866\u001b[0m     possible_gradient_type,\n\u001b[0;32m   1867\u001b[0m     executing_eagerly)\n\u001b[0;32m   1868\u001b[0m forward_function, args_with_tangents \u001b[39m=\u001b[39m forward_backward\u001b[39m.\u001b[39mforward()\n",
      "File \u001b[1;32mc:\\Users\\abdal\\miniconda3\\envs\\tf\\lib\\site-packages\\tensorflow\\python\\eager\\function.py:499\u001b[0m, in \u001b[0;36m_EagerDefinedFunction.call\u001b[1;34m(self, ctx, args, cancellation_manager)\u001b[0m\n\u001b[0;32m    497\u001b[0m \u001b[39mwith\u001b[39;00m _InterpolateFunctionError(\u001b[39mself\u001b[39m):\n\u001b[0;32m    498\u001b[0m   \u001b[39mif\u001b[39;00m cancellation_manager \u001b[39mis\u001b[39;00m \u001b[39mNone\u001b[39;00m:\n\u001b[1;32m--> 499\u001b[0m     outputs \u001b[39m=\u001b[39m execute\u001b[39m.\u001b[39;49mexecute(\n\u001b[0;32m    500\u001b[0m         \u001b[39mstr\u001b[39;49m(\u001b[39mself\u001b[39;49m\u001b[39m.\u001b[39;49msignature\u001b[39m.\u001b[39;49mname),\n\u001b[0;32m    501\u001b[0m         num_outputs\u001b[39m=\u001b[39;49m\u001b[39mself\u001b[39;49m\u001b[39m.\u001b[39;49m_num_outputs,\n\u001b[0;32m    502\u001b[0m         inputs\u001b[39m=\u001b[39;49margs,\n\u001b[0;32m    503\u001b[0m         attrs\u001b[39m=\u001b[39;49mattrs,\n\u001b[0;32m    504\u001b[0m         ctx\u001b[39m=\u001b[39;49mctx)\n\u001b[0;32m    505\u001b[0m   \u001b[39melse\u001b[39;00m:\n\u001b[0;32m    506\u001b[0m     outputs \u001b[39m=\u001b[39m execute\u001b[39m.\u001b[39mexecute_with_cancellation(\n\u001b[0;32m    507\u001b[0m         \u001b[39mstr\u001b[39m(\u001b[39mself\u001b[39m\u001b[39m.\u001b[39msignature\u001b[39m.\u001b[39mname),\n\u001b[0;32m    508\u001b[0m         num_outputs\u001b[39m=\u001b[39m\u001b[39mself\u001b[39m\u001b[39m.\u001b[39m_num_outputs,\n\u001b[1;32m   (...)\u001b[0m\n\u001b[0;32m    511\u001b[0m         ctx\u001b[39m=\u001b[39mctx,\n\u001b[0;32m    512\u001b[0m         cancellation_manager\u001b[39m=\u001b[39mcancellation_manager)\n",
      "File \u001b[1;32mc:\\Users\\abdal\\miniconda3\\envs\\tf\\lib\\site-packages\\tensorflow\\python\\eager\\execute.py:54\u001b[0m, in \u001b[0;36mquick_execute\u001b[1;34m(op_name, num_outputs, inputs, attrs, ctx, name)\u001b[0m\n\u001b[0;32m     52\u001b[0m \u001b[39mtry\u001b[39;00m:\n\u001b[0;32m     53\u001b[0m   ctx\u001b[39m.\u001b[39mensure_initialized()\n\u001b[1;32m---> 54\u001b[0m   tensors \u001b[39m=\u001b[39m pywrap_tfe\u001b[39m.\u001b[39;49mTFE_Py_Execute(ctx\u001b[39m.\u001b[39;49m_handle, device_name, op_name,\n\u001b[0;32m     55\u001b[0m                                       inputs, attrs, num_outputs)\n\u001b[0;32m     56\u001b[0m \u001b[39mexcept\u001b[39;00m core\u001b[39m.\u001b[39m_NotOkStatusException \u001b[39mas\u001b[39;00m e:\n\u001b[0;32m     57\u001b[0m   \u001b[39mif\u001b[39;00m name \u001b[39mis\u001b[39;00m \u001b[39mnot\u001b[39;00m \u001b[39mNone\u001b[39;00m:\n",
      "\u001b[1;31mKeyboardInterrupt\u001b[0m: "
     ]
    }
   ],
   "source": [
    "epochs = 100\n",
    "\n",
    "callbacks = [\n",
    "    keras.callbacks.ModelCheckpoint(\"save_at_{epoch}.h5\"),\n",
    "    keras.callbacks.TensorBoard(log_dir=\"./logs\")\n",
    "]\n",
    "\n",
    "model.compile(\n",
    "    optimizer=\"adam\",\n",
    "    loss=\"sparse_categorical_crossentropy\",\n",
    "    metrics=[\"accuracy\"],\n",
    ")\n",
    "model.fit(\n",
    "    train_ds, epochs=epochs, callbacks=callbacks,validation_data = val_ds,use_multiprocessing=True,\n",
    ")\n",
    "model.save('chicken.h5')"
   ]
  },
  {
   "cell_type": "code",
   "execution_count": null,
   "metadata": {},
   "outputs": [
    {
     "data": {
      "text/plain": [
       "'2.10.1'"
      ]
     },
     "execution_count": 1,
     "metadata": {},
     "output_type": "execute_result"
    }
   ],
   "source": [
    "import tensorflow as tf\n",
    "tf.version.VERSION\n"
   ]
  }
 ],
 "metadata": {
  "kernelspec": {
   "display_name": "Python 3.9.13 ('tf')",
   "language": "python",
   "name": "python3"
  },
  "language_info": {
   "codemirror_mode": {
    "name": "ipython",
    "version": 3
   },
   "file_extension": ".py",
   "mimetype": "text/x-python",
   "name": "python",
   "nbconvert_exporter": "python",
   "pygments_lexer": "ipython3",
   "version": "3.9.13"
  },
  "orig_nbformat": 4,
  "vscode": {
   "interpreter": {
    "hash": "31ee28d8cbd173e963d1dc0abb1ce88a9f313106e1dbf4b62de34690f6de5716"
   }
  }
 },
 "nbformat": 4,
 "nbformat_minor": 2
}
