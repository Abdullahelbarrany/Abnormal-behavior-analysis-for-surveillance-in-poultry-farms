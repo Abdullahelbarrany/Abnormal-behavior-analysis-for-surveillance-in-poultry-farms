{
 "cells": [
  {
   "cell_type": "code",
   "execution_count": 1,
   "metadata": {},
   "outputs": [
    {
     "ename": "",
     "evalue": "",
     "output_type": "error",
     "traceback": [
      "\u001b[1;31mCanceled future for execute_request message before replies were done"
     ]
    },
    {
     "ename": "",
     "evalue": "",
     "output_type": "error",
     "traceback": [
      "\u001b[1;31mThe Kernel crashed while executing code in the the current cell or a previous cell. Please review the code in the cell(s) to identify a possible cause of the failure. Click <a href='https://aka.ms/vscodeJupyterKernelCrash'>here</a> for more info. View Jupyter <a href='command:jupyter.viewOutput'>log</a> for further details."
     ]
    }
   ],
   "source": [
    "import cv2\n",
    "import numpy as np\n",
    "import matplotlib.pyplot as plt\n",
    "\n",
    "cap = cv2.VideoCapture(r\"E:\\University\\Semester 6\\Grad\\CHICK_t\\CHICK_t\\c3.mp4\")\n",
    "_, first_frame = cap.read()\n",
    "first_frame = cv2.imread(r'C:\\Users\\abdal\\OneDrive\\Desktop\\amr gamal\\New folder\\he\\a\\Screenshot_16.png')\n",
    "first_gray = cv2.cvtColor(first_frame, cv2.COLOR_BGR2GRAY)\n",
    "first_gray = cv2.GaussianBlur(first_gray, (5, 5), 0)\n",
    "old_frame=None\n",
    "heatmap = np.zeros(first_gray.shape,dtype=np.uint8)\n",
    "\n",
    "while cap.isOpened():\n",
    "    ret , frame = cap.read()\n",
    "    if ret:\n",
    "\n",
    "        gray_frame = cv2.cvtColor(frame, cv2.COLOR_BGR2GRAY)\n",
    "        gray_frame = cv2.GaussianBlur(gray_frame, (5, 5), 0)\n",
    "        if old_frame is not None:\n",
    "            \n",
    "            heatmap_diff = (cv2.absdiff(gray_frame, old_frame))\n",
    "            # cv2.imshow('frame_diff',(cv2.absdiff(gray_frame, old_frame)))\n",
    "            heatmap_diff = heatmap_diff * 0.1\n",
    "            heatmap_diff = heatmap_diff.astype(np.uint8)\n",
    "            heatmap = cv2.add(heatmap_diff,heatmap)\n",
    "            # ret,thresh1 = cv2.threshold(heatmap_diff,127,255,cv2.THRESH_BINARY)\n",
    "            heatmap_img = cv2.applyColorMap(heatmap, cv2.COLORMAP_JET)\n",
    "            #print(heatmap_img.shape)\n",
    "            heatmap_img = cv2.resize(heatmap_img, (960, 540)) \n",
    "            cv2.imshow('heatmap',heatmap_img)\n",
    "        old_frame = gray_frame\n",
    "        difference = cv2.absdiff(first_gray, gray_frame)\n",
    "        _, difference = cv2.threshold(difference, 25, 255, cv2.THRESH_BINARY)\n",
    "\n",
    "            \n",
    "        frame = cv2.resize(frame, (960, 540)) \n",
    "        difference = cv2.resize(difference, (960, 540))  \n",
    "        cv2.imshow(\"Frame\", frame)\n",
    "        cv2.imshow(\"difference\", difference)\n",
    "\n",
    "        key = cv2.waitKey(30)\n",
    "        if key == 27:\n",
    "            break\n",
    "cap.release()\n",
    "cv2.destroyAllWindows()"
   ]
  },
  {
   "cell_type": "code",
   "execution_count": 25,
   "metadata": {},
   "outputs": [],
   "source": [
    "#heatmap\n"
   ]
  },
  {
   "cell_type": "code",
   "execution_count": 26,
   "metadata": {},
   "outputs": [],
   "source": [
    "# from PIL import Image\n",
    "# with Image.open(r'C:\\Users\\abdal\\OneDrive\\Desktop\\amr gamal\\New folder\\Screenshot_15.png') as img:\n",
    "#     img = img.resize((1920,1080))\n",
    "#     img.save('Screenshot_15.png')\n"
   ]
  },
  {
   "cell_type": "code",
   "execution_count": 27,
   "metadata": {},
   "outputs": [],
   "source": [
    "# import cv2\n",
    "# import numpy as np\n",
    "\n",
    "# cap = cv2.VideoCapture(r\"E:\\University\\Semester 6\\Grad\\CHICK_t\\CHICK_t\\c3.mp4\")\n",
    "\n",
    "# subtractor = cv2.createBackgroundSubtractorMOG2( varThreshold=50, detectShadows=False)\n",
    "\n",
    "# while True:\n",
    "#     _, frame = cap.read()\n",
    "\n",
    "#     mask = subtractor.apply(frame)\n",
    "    \n",
    "#     cv2.imshow(\"Frame\", frame)\n",
    "#     cv2.imshow(\"mask\", mask)\n",
    "\n",
    "#     key = cv2.waitKey(30)\n",
    "#     if key == 27:\n",
    "#         break\n",
    "\n",
    "# cap.release()\n",
    "# cv2.destroyAllWindows()\n"
   ]
  },
  {
   "cell_type": "code",
   "execution_count": 28,
   "metadata": {},
   "outputs": [],
   "source": [
    "# import numpy as np\n",
    "# import cv2 as cv\n",
    "# cap = cv.VideoCapture(r\"E:\\University\\Semester 6\\Grad\\CHICK_t\\CHICK_t\\c3.mp4\")\n",
    "# kernel = cv.getStructuringElement(cv.MORPH_ELLIPSE, (3,3))\n",
    "# fgbg = cv.createBackgroundSubtractorMOG2(history=200, varThreshold=50, detectShadows=False)\n",
    "# fgbg = cv.createBackgroundSubtractorMOG2(detectShadows=False)\n",
    "# fgbg = cv.createBackgroundSubtractorKNN( dist2Threshold=500, detectShadows=False)\n",
    "# while True:\n",
    "#     ret, frame = cap.read()\n",
    "#     if frame is None:\n",
    "#         break\n",
    "#     fgmask = fgbg.apply(frame)\n",
    "#     fgmask = cv.morphologyEx(fgmask, cv.MORPH_OPEN, kernel)\n",
    "\n",
    "#     cv.imshow('Frame', frame)\n",
    "#     cv.imshow('FG MASK Frame', fgmask)\n",
    "\n",
    "#     keyboard = cv.waitKey(30)\n",
    "#     if keyboard == 'q' or keyboard == 27:\n",
    "#         break\n",
    "# cap.release()\n",
    "# cv.destroyAllWindows()\n"
   ]
  }
 ],
 "metadata": {
  "kernelspec": {
   "display_name": "Python 3.9.13 64-bit (microsoft store)",
   "language": "python",
   "name": "python3"
  },
  "language_info": {
   "codemirror_mode": {
    "name": "ipython",
    "version": 3
   },
   "file_extension": ".py",
   "mimetype": "text/x-python",
   "name": "python",
   "nbconvert_exporter": "python",
   "pygments_lexer": "ipython3",
   "version": "3.9.13"
  },
  "orig_nbformat": 4,
  "vscode": {
   "interpreter": {
    "hash": "8dd6c597a8792c9ccfb7150262fecf4787dd3bb8fdd1b3a793a20b754922f4d4"
   }
  }
 },
 "nbformat": 4,
 "nbformat_minor": 2
}
