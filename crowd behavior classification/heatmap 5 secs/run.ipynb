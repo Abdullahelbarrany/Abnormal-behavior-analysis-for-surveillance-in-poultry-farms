{
 "cells": [
  {
   "cell_type": "code",
   "execution_count": null,
   "metadata": {},
   "outputs": [],
   "source": [
    "import os\n",
    "import numpy as np\n",
    "import tensorflow as tf\n",
    "from tensorflow import keras\n",
    "import cv2 as cv\n",
    "from keras import layers, utils, models, callbacks as cb"
   ]
  },
  {
   "cell_type": "code",
   "execution_count": null,
   "metadata": {},
   "outputs": [],
   "source": []
  },
  {
   "cell_type": "code",
   "execution_count": null,
   "metadata": {},
   "outputs": [],
   "source": [
    "# model = models.load_model(r'E:\\University\\Semester 6\\Grad\\tile classifciation\\thing.h5')"
   ]
  },
  {
   "cell_type": "code",
   "execution_count": null,
   "metadata": {},
   "outputs": [],
   "source": [
    "# def predict(img_array):\n",
    "#     predictions = model.predict(img_array)\n",
    "# #predictions[:5]\n",
    "#     score = predictions[0]\n",
    "#     x = np.argmax(score)\n",
    "# #print(score)\n",
    "#     print(f\"This is tile number {x+1}\" )"
   ]
  },
  {
   "cell_type": "code",
   "execution_count": null,
   "metadata": {},
   "outputs": [],
   "source": [
    "# cap = cv.VideoCapture(0)\n",
    "# while (cap.isOpened()):\n",
    "#     ret,frame=cap.read()\n",
    "#     if ret==True:\n",
    "#         cv.imshow('frame',frame)\n",
    "#         img=frame\n",
    "#         #img = img.resize((540,960))\n",
    "#         frame_array = keras.preprocessing.image.img_to_array(img)\n",
    "#         frame_array = tf.expand_dims(frame_array, 0)\n",
    "#         predict(img_array=frame_array)\n",
    "#         if cv.waitKey(25) & 0xFF==ord('q'):\n",
    "#             break\n",
    "# cap.release()\n",
    "# cv.destroyAllWindows()"
   ]
  },
  {
   "attachments": {},
   "cell_type": "markdown",
   "metadata": {},
   "source": []
  },
  {
   "cell_type": "code",
   "execution_count": null,
   "metadata": {},
   "outputs": [],
   "source": [
    "model = models.load_model(r'E:\\University\\Semester 6\\Grad\\tile classification 2\\tile classifciation\\thing5.h5')"
   ]
  },
  {
   "cell_type": "code",
   "execution_count": null,
   "metadata": {},
   "outputs": [],
   "source": [
    "\n",
    "#path: str = r'E:\\University\\Semester 6\\Grad\\tile classifciation\\tile1.jpg'\n",
    "#path: str = r'E:\\University\\Semester 6\\Grad\\tile classifciation\\tile2.jpg'\n",
    "#path: str = r'E:\\University\\Semester 6\\Grad\\tile classifciation\\tile3.jpg'\n",
    "#path: str = r'E:\\University\\Semester 6\\Grad\\tile classifciation\\tile4.jpg'\n",
    "\n",
    "#path: str = r'E:\\University\\Semester 6\\Grad\\tile classifciation\\testing\\tile1.jpg'\n",
    "#path: str = r'E:\\University\\Semester 6\\Grad\\tile classifciation\\validation\\tile5\\tile5_frame46.jpg'\n",
    "#path: str = r'E:\\University\\Semester 6\\Grad\\tile classifciation\\testing\\tile3.jpg'\n",
    "#path: str = r'E:\\University\\Semester 6\\Grad\\tile classifciation\\testing\\tile4.jpg'\n",
    "# path: str = r'E:\\University\\Semester 6\\Grad\\tile classifciation\\testing\\tile5.jpg'\n"
   ]
  },
  {
   "cell_type": "code",
   "execution_count": null,
   "metadata": {},
   "outputs": [],
   "source": [
    "img = keras.preprocessing.image.load_img(\n",
    "    path,\n",
    "    target_size=(540,960)\n",
    ")\n",
    "\n",
    "img_array = keras.preprocessing.image.img_to_array(img)\n",
    "img_array = tf.expand_dims(img_array, 0)"
   ]
  },
  {
   "cell_type": "code",
   "execution_count": null,
   "metadata": {},
   "outputs": [],
   "source": [
    "predictions = model.predict(img_array)\n",
    "#predictions[:5]\n",
    "score = predictions[0]\n",
    "x = np.argmax(score)\n",
    "print(score)\n",
    "print(f\"This is tile number {x+1}\" )"
   ]
  },
  {
   "cell_type": "code",
   "execution_count": null,
   "metadata": {},
   "outputs": [],
   "source": [
    "def find_high_acc(prefix):\n",
    "  os.chdir(prefix)\n",
    "\n",
    "  for i, prefix in enumerate(os.listdir('.')):\n",
    "    img = keras.preprocessing.image.load_img(\n",
    "    prefix,\n",
    "    target_size=(540,960)\n",
    "    )\n",
    "\n",
    "    img_array = keras.preprocessing.image.img_to_array(img)\n",
    "    img_array = tf.expand_dims(img_array, 0)\n",
    "    predictions = model.predict(img_array)\n",
    "    #predictions[:5]\n",
    "    score = predictions[0]\n",
    "    x = np.argmax(score)\n",
    "    print(score)\n",
    "    print(f\"This is tile number {x+1}\" )\n",
    "\n",
    "\n",
    "\n",
    "\n",
    "print(find_high_acc(r'E:\\University\\Semester 6\\Grad\\tile classification 2\\tile classifciation\\validation\\tile4\\\\'))"
   ]
  },
  {
   "cell_type": "code",
   "execution_count": null,
   "metadata": {},
   "outputs": [],
   "source": [
    "import os\n",
    "path = os.chdir(r\"E:\\University\\Semester 6\\Grad\\tile classification 2\\tile classifciation\\training\\tile1\")\n",
    "# print(path)\n",
    "i=1\n",
    "# os.chdir('training')\n",
    "# for category in os.listdir(r'.'):\n",
    "#   os.chdir(category)\n",
    "\n",
    "for file in os.listdir(path):\n",
    "  new_file_name = \"pic{}.jpg\".format(i)\n",
    "  os.rename(file,new_file_name)\n",
    "  i=i+1"
   ]
  }
 ],
 "metadata": {
  "kernelspec": {
   "display_name": "Python 3.9.13 64-bit (windows store)",
   "language": "python",
   "name": "python3"
  },
  "language_info": {
   "codemirror_mode": {
    "name": "ipython",
    "version": 3
   },
   "file_extension": ".py",
   "mimetype": "text/x-python",
   "name": "python",
   "nbconvert_exporter": "python",
   "pygments_lexer": "ipython3",
   "version": "3.9.13"
  },
  "orig_nbformat": 4,
  "vscode": {
   "interpreter": {
    "hash": "8dd6c597a8792c9ccfb7150262fecf4787dd3bb8fdd1b3a793a20b754922f4d4"
   }
  }
 },
 "nbformat": 4,
 "nbformat_minor": 2
}
