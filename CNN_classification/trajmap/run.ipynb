{
 "cells": [
  {
   "cell_type": "code",
   "execution_count": 3,
   "metadata": {},
   "outputs": [],
   "source": [
    "import os\n",
    "import numpy as np\n",
    "import tensorflow as tf\n",
    "from tensorflow import keras\n",
    "import cv2 as cv\n",
    "from keras import layers, utils, models, callbacks as cb"
   ]
  },
  {
   "cell_type": "code",
   "execution_count": null,
   "metadata": {},
   "outputs": [],
   "source": []
  },
  {
   "cell_type": "code",
   "execution_count": 15,
   "metadata": {},
   "outputs": [],
   "source": [
    "# model = models.load_model(r'E:\\University\\Semester 6\\Grad\\tile classifciation\\thing.h5')"
   ]
  },
  {
   "cell_type": "code",
   "execution_count": 16,
   "metadata": {},
   "outputs": [],
   "source": [
    "# def predict(img_array):\n",
    "#     predictions = model.predict(img_array)\n",
    "# #predictions[:5]\n",
    "#     score = predictions[0]\n",
    "#     x = np.argmax(score)\n",
    "# #print(score)\n",
    "#     print(f\"This is tile number {x+1}\" )"
   ]
  },
  {
   "cell_type": "code",
   "execution_count": 17,
   "metadata": {},
   "outputs": [],
   "source": [
    "# cap = cv.VideoCapture(0)\n",
    "# while (cap.isOpened()):\n",
    "#     ret,frame=cap.read()\n",
    "#     if ret==True:\n",
    "#         cv.imshow('frame',frame)\n",
    "#         img=frame\n",
    "#         #img = img.resize((540,960))\n",
    "#         frame_array = keras.preprocessing.image.img_to_array(img)\n",
    "#         frame_array = tf.expand_dims(frame_array, 0)\n",
    "#         predict(img_array=frame_array)\n",
    "#         if cv.waitKey(25) & 0xFF==ord('q'):\n",
    "#             break\n",
    "# cap.release()\n",
    "# cv.destroyAllWindows()"
   ]
  },
  {
   "cell_type": "markdown",
   "metadata": {},
   "source": []
  },
  {
   "cell_type": "code",
   "execution_count": 4,
   "metadata": {},
   "outputs": [],
   "source": [
    "model = models.load_model(r'E:\\University\\Semester 6\\Grad\\tile classification 2\\tile classifciation\\thing5.h5')"
   ]
  },
  {
   "cell_type": "code",
   "execution_count": 19,
   "metadata": {},
   "outputs": [],
   "source": [
    "\n",
    "#path: str = r'E:\\University\\Semester 6\\Grad\\tile classifciation\\tile1.jpg'\n",
    "#path: str = r'E:\\University\\Semester 6\\Grad\\tile classifciation\\tile2.jpg'\n",
    "#path: str = r'E:\\University\\Semester 6\\Grad\\tile classifciation\\tile3.jpg'\n",
    "#path: str = r'E:\\University\\Semester 6\\Grad\\tile classifciation\\tile4.jpg'\n",
    "\n",
    "#path: str = r'E:\\University\\Semester 6\\Grad\\tile classifciation\\testing\\tile1.jpg'\n",
    "#path: str = r'E:\\University\\Semester 6\\Grad\\tile classifciation\\validation\\tile5\\tile5_frame46.jpg'\n",
    "#path: str = r'E:\\University\\Semester 6\\Grad\\tile classifciation\\testing\\tile3.jpg'\n",
    "#path: str = r'E:\\University\\Semester 6\\Grad\\tile classifciation\\testing\\tile4.jpg'\n",
    "# path: str = r'E:\\University\\Semester 6\\Grad\\tile classifciation\\testing\\tile5.jpg'\n"
   ]
  },
  {
   "cell_type": "code",
   "execution_count": 20,
   "metadata": {},
   "outputs": [
    {
     "ename": "NameError",
     "evalue": "name 'path' is not defined",
     "output_type": "error",
     "traceback": [
      "\u001b[1;31m---------------------------------------------------------------------------\u001b[0m",
      "\u001b[1;31mNameError\u001b[0m                                 Traceback (most recent call last)",
      "\u001b[1;32me:\\University\\Semester 6\\Grad\\tile classification 2\\tile classifciation\\run.ipynb Cell 9\u001b[0m in \u001b[0;36m<cell line: 1>\u001b[1;34m()\u001b[0m\n\u001b[0;32m      <a href='vscode-notebook-cell:/e%3A/University/Semester%206/Grad/tile%20classification%202/tile%20classifciation/run.ipynb#X11sZmlsZQ%3D%3D?line=0'>1</a>\u001b[0m img \u001b[39m=\u001b[39m keras\u001b[39m.\u001b[39mpreprocessing\u001b[39m.\u001b[39mimage\u001b[39m.\u001b[39mload_img(\n\u001b[1;32m----> <a href='vscode-notebook-cell:/e%3A/University/Semester%206/Grad/tile%20classification%202/tile%20classifciation/run.ipynb#X11sZmlsZQ%3D%3D?line=1'>2</a>\u001b[0m     path,\n\u001b[0;32m      <a href='vscode-notebook-cell:/e%3A/University/Semester%206/Grad/tile%20classification%202/tile%20classifciation/run.ipynb#X11sZmlsZQ%3D%3D?line=2'>3</a>\u001b[0m     target_size\u001b[39m=\u001b[39m(\u001b[39m540\u001b[39m,\u001b[39m960\u001b[39m)\n\u001b[0;32m      <a href='vscode-notebook-cell:/e%3A/University/Semester%206/Grad/tile%20classification%202/tile%20classifciation/run.ipynb#X11sZmlsZQ%3D%3D?line=3'>4</a>\u001b[0m )\n\u001b[0;32m      <a href='vscode-notebook-cell:/e%3A/University/Semester%206/Grad/tile%20classification%202/tile%20classifciation/run.ipynb#X11sZmlsZQ%3D%3D?line=5'>6</a>\u001b[0m img_array \u001b[39m=\u001b[39m keras\u001b[39m.\u001b[39mpreprocessing\u001b[39m.\u001b[39mimage\u001b[39m.\u001b[39mimg_to_array(img)\n\u001b[0;32m      <a href='vscode-notebook-cell:/e%3A/University/Semester%206/Grad/tile%20classification%202/tile%20classifciation/run.ipynb#X11sZmlsZQ%3D%3D?line=6'>7</a>\u001b[0m img_array \u001b[39m=\u001b[39m tf\u001b[39m.\u001b[39mexpand_dims(img_array, \u001b[39m0\u001b[39m)\n",
      "\u001b[1;31mNameError\u001b[0m: name 'path' is not defined"
     ]
    }
   ],
   "source": [
    "img = keras.preprocessing.image.load_img(\n",
    "    path,\n",
    "    target_size=(540,960)\n",
    ")\n",
    "\n",
    "img_array = keras.preprocessing.image.img_to_array(img)\n",
    "img_array = tf.expand_dims(img_array, 0)"
   ]
  },
  {
   "cell_type": "code",
   "execution_count": null,
   "metadata": {},
   "outputs": [
    {
     "name": "stdout",
     "output_type": "stream",
     "text": [
      "1/1 [==============================] - 0s 111ms/step\n",
      "[4.8837972e-16 8.8456606e-19 7.2328845e-04 1.8307726e-14 9.9927670e-01]\n",
      "This is tile number 5\n"
     ]
    }
   ],
   "source": [
    "predictions = model.predict(img_array)\n",
    "#predictions[:5]\n",
    "score = predictions[0]\n",
    "x = np.argmax(score)\n",
    "print(score)\n",
    "print(f\"This is tile number {x+1}\" )"
   ]
  },
  {
   "cell_type": "code",
   "execution_count": 6,
   "metadata": {},
   "outputs": [
    {
     "name": "stdout",
     "output_type": "stream",
     "text": [
      "1/1 [==============================] - 0s 75ms/step\n",
      "[0.22253568 0.21921611 0.20457035 0.20436595 0.14931199]\n",
      "This is tile number 1\n",
      "1/1 [==============================] - 0s 77ms/step\n",
      "[0.22253568 0.21921611 0.20457035 0.20436595 0.14931199]\n",
      "This is tile number 1\n",
      "1/1 [==============================] - 0s 73ms/step\n",
      "[0.22253568 0.21921611 0.20457035 0.20436595 0.14931199]\n",
      "This is tile number 1\n",
      "1/1 [==============================] - 0s 75ms/step\n",
      "[0.22253568 0.21921611 0.20457035 0.20436595 0.14931199]\n",
      "This is tile number 1\n",
      "1/1 [==============================] - 0s 75ms/step\n",
      "[0.22253568 0.21921611 0.20457035 0.20436595 0.14931199]\n",
      "This is tile number 1\n",
      "1/1 [==============================] - 0s 73ms/step\n",
      "[0.22253568 0.21921611 0.20457035 0.20436595 0.14931199]\n",
      "This is tile number 1\n",
      "1/1 [==============================] - 0s 73ms/step\n",
      "[0.22253568 0.21921611 0.20457035 0.20436595 0.14931199]\n",
      "This is tile number 1\n",
      "1/1 [==============================] - 0s 74ms/step\n",
      "[0.22253568 0.21921611 0.20457035 0.20436595 0.14931199]\n",
      "This is tile number 1\n",
      "1/1 [==============================] - 0s 74ms/step\n",
      "[0.22253568 0.21921611 0.20457035 0.20436595 0.14931199]\n",
      "This is tile number 1\n",
      "1/1 [==============================] - 0s 74ms/step\n",
      "[0.22253568 0.21921611 0.20457035 0.20436595 0.14931199]\n",
      "This is tile number 1\n",
      "1/1 [==============================] - 0s 70ms/step\n",
      "[0.22253568 0.21921611 0.20457035 0.20436595 0.14931199]\n",
      "This is tile number 1\n",
      "1/1 [==============================] - 0s 83ms/step\n",
      "[0.22253568 0.21921611 0.20457035 0.20436595 0.14931199]\n",
      "This is tile number 1\n",
      "1/1 [==============================] - 0s 81ms/step\n",
      "[0.22253568 0.21921611 0.20457035 0.20436595 0.14931199]\n",
      "This is tile number 1\n",
      "1/1 [==============================] - 0s 77ms/step\n",
      "[0.22253568 0.21921611 0.20457035 0.20436595 0.14931199]\n",
      "This is tile number 1\n",
      "1/1 [==============================] - 0s 76ms/step\n",
      "[0.22253568 0.21921611 0.20457035 0.20436595 0.14931199]\n",
      "This is tile number 1\n",
      "1/1 [==============================] - 0s 83ms/step\n",
      "[0.22253568 0.21921611 0.20457035 0.20436595 0.14931199]\n",
      "This is tile number 1\n",
      "1/1 [==============================] - 0s 77ms/step\n",
      "[0.22253568 0.21921611 0.20457035 0.20436595 0.14931199]\n",
      "This is tile number 1\n",
      "1/1 [==============================] - 0s 73ms/step\n",
      "[0.22253568 0.21921611 0.20457035 0.20436595 0.14931199]\n",
      "This is tile number 1\n",
      "1/1 [==============================] - 0s 73ms/step\n",
      "[0.22253568 0.21921611 0.20457035 0.20436595 0.14931199]\n",
      "This is tile number 1\n",
      "1/1 [==============================] - 0s 74ms/step\n",
      "[0.22253568 0.21921611 0.20457035 0.20436595 0.14931199]\n",
      "This is tile number 1\n",
      "1/1 [==============================] - 0s 73ms/step\n",
      "[0.22253568 0.21921611 0.20457035 0.20436595 0.14931199]\n",
      "This is tile number 1\n",
      "1/1 [==============================] - 0s 76ms/step\n",
      "[0.22253568 0.21921611 0.20457035 0.20436595 0.14931199]\n",
      "This is tile number 1\n",
      "1/1 [==============================] - 0s 74ms/step\n",
      "[0.22253568 0.21921611 0.20457035 0.20436595 0.14931199]\n",
      "This is tile number 1\n",
      "1/1 [==============================] - 0s 73ms/step\n",
      "[0.22253568 0.21921611 0.20457035 0.20436595 0.14931199]\n",
      "This is tile number 1\n",
      "1/1 [==============================] - 0s 75ms/step\n",
      "[0.22253568 0.21921611 0.20457035 0.20436595 0.14931199]\n",
      "This is tile number 1\n",
      "1/1 [==============================] - 0s 73ms/step\n",
      "[0.22253568 0.21921611 0.20457035 0.20436595 0.14931199]\n",
      "This is tile number 1\n",
      "1/1 [==============================] - 0s 74ms/step\n",
      "[0.22253568 0.21921611 0.20457035 0.20436595 0.14931199]\n",
      "This is tile number 1\n",
      "1/1 [==============================] - 0s 74ms/step\n",
      "[0.22253568 0.21921611 0.20457035 0.20436595 0.14931199]\n",
      "This is tile number 1\n",
      "1/1 [==============================] - 0s 74ms/step\n",
      "[0.22253568 0.21921611 0.20457035 0.20436595 0.14931199]\n",
      "This is tile number 1\n",
      "1/1 [==============================] - 0s 74ms/step\n",
      "[0.22253568 0.21921611 0.20457035 0.20436595 0.14931199]\n",
      "This is tile number 1\n",
      "1/1 [==============================] - 0s 74ms/step\n",
      "[0.22253568 0.21921611 0.20457035 0.20436595 0.14931199]\n",
      "This is tile number 1\n",
      "1/1 [==============================] - 0s 76ms/step\n",
      "[0.22253568 0.21921611 0.20457035 0.20436595 0.14931199]\n",
      "This is tile number 1\n",
      "1/1 [==============================] - 0s 77ms/step\n",
      "[0.22253568 0.21921611 0.20457035 0.20436595 0.14931199]\n",
      "This is tile number 1\n",
      "1/1 [==============================] - 0s 74ms/step\n",
      "[0.22253568 0.21921611 0.20457035 0.20436595 0.14931199]\n",
      "This is tile number 1\n",
      "1/1 [==============================] - 0s 73ms/step\n",
      "[0.22253568 0.21921611 0.20457035 0.20436595 0.14931199]\n",
      "This is tile number 1\n",
      "1/1 [==============================] - 0s 75ms/step\n",
      "[0.22253568 0.21921611 0.20457035 0.20436595 0.14931199]\n",
      "This is tile number 1\n",
      "1/1 [==============================] - 0s 74ms/step\n",
      "[0.22253568 0.21921611 0.20457035 0.20436595 0.14931199]\n",
      "This is tile number 1\n",
      "1/1 [==============================] - 0s 71ms/step\n",
      "[0.22253568 0.21921611 0.20457035 0.20436595 0.14931199]\n",
      "This is tile number 1\n",
      "1/1 [==============================] - 0s 74ms/step\n",
      "[0.22253568 0.21921611 0.20457035 0.20436595 0.14931199]\n",
      "This is tile number 1\n",
      "1/1 [==============================] - 0s 74ms/step\n",
      "[0.22253568 0.21921611 0.20457035 0.20436595 0.14931199]\n",
      "This is tile number 1\n",
      "1/1 [==============================] - 0s 75ms/step\n",
      "[0.22253568 0.21921611 0.20457035 0.20436595 0.14931199]\n",
      "This is tile number 1\n",
      "1/1 [==============================] - 0s 76ms/step\n",
      "[0.22253568 0.21921611 0.20457035 0.20436595 0.14931199]\n",
      "This is tile number 1\n",
      "1/1 [==============================] - 0s 74ms/step\n",
      "[0.22253568 0.21921611 0.20457035 0.20436595 0.14931199]\n",
      "This is tile number 1\n",
      "1/1 [==============================] - 0s 78ms/step\n",
      "[0.22253568 0.21921611 0.20457035 0.20436595 0.14931199]\n",
      "This is tile number 1\n",
      "1/1 [==============================] - 0s 73ms/step\n",
      "[0.22253568 0.21921611 0.20457035 0.20436595 0.14931199]\n",
      "This is tile number 1\n",
      "1/1 [==============================] - 0s 74ms/step\n",
      "[0.22253568 0.21921611 0.20457035 0.20436595 0.14931199]\n",
      "This is tile number 1\n",
      "1/1 [==============================] - 0s 72ms/step\n",
      "[0.22253568 0.21921611 0.20457035 0.20436595 0.14931199]\n",
      "This is tile number 1\n",
      "None\n"
     ]
    }
   ],
   "source": [
    "def find_high_acc(prefix):\n",
    "  os.chdir(prefix)\n",
    "\n",
    "  for i, prefix in enumerate(os.listdir('.')):\n",
    "    img = keras.preprocessing.image.load_img(\n",
    "    prefix,\n",
    "    target_size=(540,960)\n",
    "    )\n",
    "\n",
    "    img_array = keras.preprocessing.image.img_to_array(img)\n",
    "    img_array = tf.expand_dims(img_array, 0)\n",
    "    predictions = model.predict(img_array)\n",
    "    #predictions[:5]\n",
    "    score = predictions[0]\n",
    "    x = np.argmax(score)\n",
    "    print(score)\n",
    "    print(f\"This is tile number {x+1}\" )\n",
    "\n",
    "\n",
    "\n",
    "\n",
    "print(find_high_acc(r'E:\\University\\Semester 6\\Grad\\tile classification 2\\tile classifciation\\validation\\tile4\\\\'))"
   ]
  },
  {
   "cell_type": "code",
   "execution_count": 41,
   "metadata": {},
   "outputs": [],
   "source": [
    "import os\n",
    "path = os.chdir(r\"E:\\University\\Semester 6\\Grad\\tile classification 2\\tile classifciation\\training\\tile1\")\n",
    "# print(path)\n",
    "i=1\n",
    "# os.chdir('training')\n",
    "# for category in os.listdir(r'.'):\n",
    "#   os.chdir(category)\n",
    "\n",
    "for file in os.listdir(path):\n",
    "  new_file_name = \"pic{}.jpg\".format(i)\n",
    "  os.rename(file,new_file_name)\n",
    "  i=i+1"
   ]
  }
 ],
 "metadata": {
  "kernelspec": {
   "display_name": "Python 3.9.13 64-bit (windows store)",
   "language": "python",
   "name": "python3"
  },
  "language_info": {
   "codemirror_mode": {
    "name": "ipython",
    "version": 3
   },
   "file_extension": ".py",
   "mimetype": "text/x-python",
   "name": "python",
   "nbconvert_exporter": "python",
   "pygments_lexer": "ipython3",
   "version": "3.9.13"
  },
  "orig_nbformat": 4,
  "vscode": {
   "interpreter": {
    "hash": "8dd6c597a8792c9ccfb7150262fecf4787dd3bb8fdd1b3a793a20b754922f4d4"
   }
  }
 },
 "nbformat": 4,
 "nbformat_minor": 2
}
