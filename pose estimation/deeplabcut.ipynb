{
 "cells": [
  {
   "cell_type": "code",
   "execution_count": 3,
   "metadata": {},
   "outputs": [
    {
     "ename": "ModuleNotFoundError",
     "evalue": "No module named 'deeplabcut'",
     "output_type": "error",
     "traceback": [
      "\u001b[1;31m---------------------------------------------------------------------------\u001b[0m",
      "\u001b[1;31mModuleNotFoundError\u001b[0m                       Traceback (most recent call last)",
      "\u001b[1;32mc:\\Users\\abdal\\Downloads\\pose-detection-keypoints-estimation-yolov8-main\\deeplabcut.ipynb Cell 1\u001b[0m in \u001b[0;36m<cell line: 1>\u001b[1;34m()\u001b[0m\n\u001b[1;32m----> <a href='vscode-notebook-cell:/c%3A/Users/abdal/Downloads/pose-detection-keypoints-estimation-yolov8-main/deeplabcut.ipynb#W0sZmlsZQ%3D%3D?line=0'>1</a>\u001b[0m \u001b[39mimport\u001b[39;00m \u001b[39mdeeplabcut\u001b[39;00m\n\u001b[0;32m      <a href='vscode-notebook-cell:/c%3A/Users/abdal/Downloads/pose-detection-keypoints-estimation-yolov8-main/deeplabcut.ipynb#W0sZmlsZQ%3D%3D?line=2'>3</a>\u001b[0m \u001b[39m# Step 1: Create a new project\u001b[39;00m\n\u001b[0;32m      <a href='vscode-notebook-cell:/c%3A/Users/abdal/Downloads/pose-detection-keypoints-estimation-yolov8-main/deeplabcut.ipynb#W0sZmlsZQ%3D%3D?line=3'>4</a>\u001b[0m \u001b[39m# It creates a new directory in the specified path with subdirectories for labeled data, training data etc.\u001b[39;00m\n\u001b[0;32m      <a href='vscode-notebook-cell:/c%3A/Users/abdal/Downloads/pose-detection-keypoints-estimation-yolov8-main/deeplabcut.ipynb#W0sZmlsZQ%3D%3D?line=4'>5</a>\u001b[0m path_config_file \u001b[39m=\u001b[39m deeplabcut\u001b[39m.\u001b[39mcreate_new_project(\u001b[39m'\u001b[39m\u001b[39mChickenKeypoints\u001b[39m\u001b[39m'\u001b[39m, \u001b[39m'\u001b[39m\u001b[39mYourName\u001b[39m\u001b[39m'\u001b[39m, [\u001b[39mr\u001b[39m\u001b[39m'\u001b[39m\u001b[39m/C:\u001b[39m\u001b[39m\\\u001b[39m\u001b[39mUsers\u001b[39m\u001b[39m\\\u001b[39m\u001b[39mabdal\u001b[39m\u001b[39m\\\u001b[39m\u001b[39mDownloads\u001b[39m\u001b[39m\\\u001b[39m\u001b[39mpose-detection-keypoints-estimation-yolov8-main\u001b[39m\u001b[39m\\\u001b[39m\u001b[39mdata\u001b[39m\u001b[39m\\\u001b[39m\u001b[39mimages\u001b[39m\u001b[39m\\\u001b[39m\u001b[39mtrain/*.jpg\u001b[39m\u001b[39m'\u001b[39m], copy_videos\u001b[39m=\u001b[39m\u001b[39mFalse\u001b[39;00m)\n",
      "\u001b[1;31mModuleNotFoundError\u001b[0m: No module named 'deeplabcut'"
     ]
    }
   ],
   "source": [
    "import deeplabcut\n",
    "\n",
    "# Step 1: Create a new project\n",
    "# It creates a new directory in the specified path with subdirectories for labeled data, training data etc.\n",
    "path_config_file = deeplabcut.create_new_project('ChickenKeypoints', 'YourName', [r'/C:\\Users\\abdal\\Downloads\\pose-detection-keypoints-estimation-yolov8-main\\data\\images\\train/*.jpg'], copy_videos=False)\n",
    "\n",
    "# Step 2: Manually label your data\n",
    "# A GUI will open for you to manually label the keypoints in your images\n",
    "deeplabcut.label_frames(path_config_file)\n",
    "\n",
    "# Step 3: Check your labels\n",
    "# It creates a .h5 file in the 'labeled-data' directory. You can read this file with pandas.\n",
    "deeplabcut.check_labels(path_config_file)\n",
    "\n",
    "# Step 4: Create a training dataset\n",
    "# This function generates the training data information for network training based on the pandas dataframes that hold label information.\n",
    "deeplabcut.create_training_dataset(path_config_file)\n",
    "\n",
    "# Step 5: Start training\n",
    "# This step could take a while depending on the number of iterations, the number of images, and your hardware.\n",
    "deeplabcut.train_network(path_config_file)\n",
    "\n",
    "# Step 6: Evaluate your model\n",
    "deeplabcut.evaluate_network(path_config_file)\n",
    "\n",
    "# # Step 7: Analyze videos using your trained network\n",
    "# # This will create a .h5 file with the coordinates of the keypoints in each frame of the video\n",
    "# deeplabcut.analyze_videos(path_config_file, ['/path_to_your_videos/*.avi'])\n",
    "\n",
    "# # Step 8: Create labeled video\n",
    "# # This code will use the .h5 files and the original videos to create a new video with the labeled keypoints.\n",
    "# deeplabcut.create_labeled_video(path_config_file, ['/path_to_your_videos/*.avi'])\n"
   ]
  }
 ],
 "metadata": {
  "kernelspec": {
   "display_name": "Python 3",
   "language": "python",
   "name": "python3"
  },
  "language_info": {
   "codemirror_mode": {
    "name": "ipython",
    "version": 3
   },
   "file_extension": ".py",
   "mimetype": "text/x-python",
   "name": "python",
   "nbconvert_exporter": "python",
   "pygments_lexer": "ipython3",
   "version": "3.9.13"
  },
  "orig_nbformat": 4
 },
 "nbformat": 4,
 "nbformat_minor": 2
}
