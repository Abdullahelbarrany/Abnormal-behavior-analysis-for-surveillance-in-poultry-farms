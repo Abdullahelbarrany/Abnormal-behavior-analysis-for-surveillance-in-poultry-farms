{
 "cells": [
  {
   "cell_type": "code",
   "execution_count": 1,
   "metadata": {},
   "outputs": [
    {
     "name": "stderr",
     "output_type": "stream",
     "text": [
      "c:\\Users\\abdal\\miniconda3\\envs\\tf\\lib\\site-packages\\numpy\\_distributor_init.py:30: UserWarning: loaded more than 1 DLL from .libs:\n",
      "c:\\Users\\abdal\\miniconda3\\envs\\tf\\lib\\site-packages\\numpy\\.libs\\libopenblas.4SP5SUA7CBGXUEOC35YP2ASOICYYEQZZ.gfortran-win_amd64.dll\n",
      "c:\\Users\\abdal\\miniconda3\\envs\\tf\\lib\\site-packages\\numpy\\.libs\\libopenblas64__v0.3.21-gcc_10_3_0.dll\n",
      "  warnings.warn(\"loaded more than 1 DLL from .libs:\"\n",
      "WARNING  Different global settings detected, resetting to defaults. This may be due to an ultralytics package update. View and update your global settings directly in C:\\Users\\abdal\\AppData\\Roaming\\Ultralytics\\settings.yaml\n",
      "Error executing job with overrides: ['model=yolov8l.pt', 'source=test.mp4', 'show=True']\n",
      "\n",
      "Traceback (most recent call last):\n",
      "  File \"e:\\University\\Semester 6\\Grad\\CHICK_t\\yolov8 deepsort\\YOLOv8-Object-Detection-with-DeepSORT-Tracking\\yolo\\v8\\detect\\tracking_vehicle_counting.py\", line 310, in predict\n",
      "    init_tracker()\n",
      "  File \"e:\\University\\Semester 6\\Grad\\CHICK_t\\yolov8 deepsort\\YOLOv8-Object-Detection-with-DeepSORT-Tracking\\yolo\\v8\\detect\\tracking_vehicle_counting.py\", line 38, in init_tracker\n",
      "    deepsort= DeepSort(cfg_deep.DEEPSORT.REID_CKPT,\n",
      "  File \"e:\\University\\Semester 6\\Grad\\CHICK_t\\yolov8 deepsort\\YOLOv8-Object-Detection-with-DeepSORT-Tracking\\yolo\\v8\\detect\\deep_sort_pytorch\\deep_sort\\deep_sort.py\", line 18, in __init__\n",
      "    self.extractor = Extractor(model_path, use_cuda=use_cuda)\n",
      "  File \"e:\\University\\Semester 6\\Grad\\CHICK_t\\yolov8 deepsort\\YOLOv8-Object-Detection-with-DeepSORT-Tracking\\yolo\\v8\\detect\\deep_sort_pytorch\\deep_sort\\deep\\feature_extractor.py\", line 14, in __init__\n",
      "    state_dict = torch.load(model_path, map_location=torch.device(self.device))[\n",
      "  File \"c:\\Users\\abdal\\miniconda3\\envs\\tf\\lib\\site-packages\\torch\\serialization.py\", line 771, in load\n",
      "    with _open_file_like(f, 'rb') as opened_file:\n",
      "  File \"c:\\Users\\abdal\\miniconda3\\envs\\tf\\lib\\site-packages\\torch\\serialization.py\", line 270, in _open_file_like\n",
      "    return _open_file(name_or_buffer, mode)\n",
      "  File \"c:\\Users\\abdal\\miniconda3\\envs\\tf\\lib\\site-packages\\torch\\serialization.py\", line 251, in __init__\n",
      "    super(_open_file, self).__init__(open(name, mode))\n",
      "FileNotFoundError: [Errno 2] No such file or directory: 'deep_sort_pytorch/deep_sort/deep/checkpoint/ckpt.t7'\n",
      "\n",
      "Set the environment variable HYDRA_FULL_ERROR=1 for a complete stack trace.\n"
     ]
    }
   ],
   "source": [
    "! python tracking_vehicle_counting.py model=yolov8l.pt source=\"test.mp4\" show=True\n"
   ]
  }
 ],
 "metadata": {
  "kernelspec": {
   "display_name": "tf",
   "language": "python",
   "name": "python3"
  },
  "language_info": {
   "codemirror_mode": {
    "name": "ipython",
    "version": 3
   },
   "file_extension": ".py",
   "mimetype": "text/x-python",
   "name": "python",
   "nbconvert_exporter": "python",
   "pygments_lexer": "ipython3",
   "version": "3.9.13"
  },
  "orig_nbformat": 4
 },
 "nbformat": 4,
 "nbformat_minor": 2
}
